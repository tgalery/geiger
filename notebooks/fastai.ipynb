{
  "nbformat": 4,
  "nbformat_minor": 0,
  "metadata": {
    "kernelspec": {
      "name": "python3",
      "display_name": "Python 3"
    },
    "language_info": {
      "codemirror_mode": {
        "name": "ipython",
        "version": 3
      },
      "file_extension": ".py",
      "mimetype": "text/x-python",
      "name": "python",
      "nbconvert_exporter": "python",
      "pygments_lexer": "ipython3",
      "version": "3.6.9"
    },
    "colab": {
      "name": "fastai.ipynb",
      "version": "0.3.2",
      "provenance": []
    },
    "accelerator": "GPU"
  },
  "cells": [
    {
      "cell_type": "markdown",
      "metadata": {
        "id": "jXsXI48Wt0EF",
        "colab_type": "text"
      },
      "source": [
        "Using ULM fit for doing text classification on the coling classification data"
      ]
    },
    {
      "cell_type": "code",
      "metadata": {
        "id": "2kZFDwDxv9KZ",
        "colab_type": "code",
        "colab": {
          "base_uri": "https://localhost:8080/",
          "height": 51
        },
        "outputId": "0bdd7106-4aab-4219-d7d2-831c5e69051d"
      },
      "source": [
        "# For using this on google collab, change the Runtime to have a GPU accellerator\n",
        "# Then, uncomment and execute the line below:\n",
        "!curl -s https://course.fast.ai/setup/colab | bash"
      ],
      "execution_count": 1,
      "outputs": [
        {
          "output_type": "stream",
          "text": [
            "Updating fastai...\n",
            "Done.\n"
          ],
          "name": "stdout"
        }
      ]
    },
    {
      "cell_type": "code",
      "metadata": {
        "id": "vhr7bU9Vwj2a",
        "colab_type": "code",
        "colab": {
          "base_uri": "https://localhost:8080/",
          "height": 122
        },
        "outputId": "8c8ba663-ee47-4b81-8f03-279cce6a542d"
      },
      "source": [
        "# If you are training in colab you need to write and save that to a cloud drive.\n",
        "# Uncomment those if you wanna set up a drive.\n",
        "from google.colab import drive\n",
        "drive.mount('/content/gdrive', force_remount=True)\n",
        "root_dir = \"/content/gdrive/My Drive/\"\n",
        "base_dir = root_dir + 'fastai-v3/'"
      ],
      "execution_count": 2,
      "outputs": [
        {
          "output_type": "stream",
          "text": [
            "Go to this URL in a browser: https://accounts.google.com/o/oauth2/auth?client_id=947318989803-6bn6qk8qdgf4n4g3pfee6491hc0brc4i.apps.googleusercontent.com&redirect_uri=urn%3Aietf%3Awg%3Aoauth%3A2.0%3Aoob&scope=email%20https%3A%2F%2Fwww.googleapis.com%2Fauth%2Fdocs.test%20https%3A%2F%2Fwww.googleapis.com%2Fauth%2Fdrive%20https%3A%2F%2Fwww.googleapis.com%2Fauth%2Fdrive.photos.readonly%20https%3A%2F%2Fwww.googleapis.com%2Fauth%2Fpeopleapi.readonly&response_type=code\n",
            "\n",
            "Enter your authorization code:\n",
            "··········\n",
            "Mounted at /content/gdrive\n"
          ],
          "name": "stdout"
        }
      ]
    },
    {
      "cell_type": "code",
      "metadata": {
        "id": "Cfybvh8yt0EJ",
        "colab_type": "code",
        "colab": {}
      },
      "source": [
        "%reload_ext autoreload\n",
        "%autoreload 2\n",
        "%matplotlib inline"
      ],
      "execution_count": 0,
      "outputs": []
    },
    {
      "cell_type": "code",
      "metadata": {
        "id": "2d_52e5ct0EP",
        "colab_type": "code",
        "colab": {}
      },
      "source": [
        "from pathlib import Path\n",
        "from fastai.text.data import TextDataBunch, TextLMDataBunch\n",
        "from fastai.text import language_model_learner, text_classifier_learner\n",
        "from fastai.text.models.awd_lstm import AWD_LSTM\n",
        "from fastai.metrics import fbeta\n",
        "import pandas as pd"
      ],
      "execution_count": 0,
      "outputs": []
    },
    {
      "cell_type": "code",
      "metadata": {
        "id": "7gXw-pBjt0ET",
        "colab_type": "code",
        "colab": {
          "base_uri": "https://localhost:8080/",
          "height": 51
        },
        "outputId": "35200a16-ffa0-4594-d4eb-aa1f7111d7d9"
      },
      "source": [
        "# work with paths, so if you are using a local file path\n",
        "# use that as a base_dir\n",
        "base_path = Path(base_dir + \"coling_toxic\")\n",
        "base_path.ls()"
      ],
      "execution_count": 10,
      "outputs": [
        {
          "output_type": "execute_result",
          "data": {
            "text/plain": [
              "[PosixPath('/content/gdrive/My Drive/fastai-v3/coling_toxic/agr_en_dev.csv'),\n",
              " PosixPath('/content/gdrive/My Drive/fastai-v3/coling_toxic/agr_en_train.csv')]"
            ]
          },
          "metadata": {
            "tags": []
          },
          "execution_count": 10
        }
      ]
    },
    {
      "cell_type": "code",
      "metadata": {
        "id": "-kvNolQNt0EW",
        "colab_type": "code",
        "colab": {
          "base_uri": "https://localhost:8080/",
          "height": 204
        },
        "outputId": "fce05908-9347-433f-9d49-4de2be1490bb"
      },
      "source": [
        "df_train = pd.read_csv(base_path / 'agr_en_train.csv', header=None)\n",
        "df_train.head()"
      ],
      "execution_count": 11,
      "outputs": [
        {
          "output_type": "execute_result",
          "data": {
            "text/html": [
              "<div>\n",
              "<style scoped>\n",
              "    .dataframe tbody tr th:only-of-type {\n",
              "        vertical-align: middle;\n",
              "    }\n",
              "\n",
              "    .dataframe tbody tr th {\n",
              "        vertical-align: top;\n",
              "    }\n",
              "\n",
              "    .dataframe thead th {\n",
              "        text-align: right;\n",
              "    }\n",
              "</style>\n",
              "<table border=\"1\" class=\"dataframe\">\n",
              "  <thead>\n",
              "    <tr style=\"text-align: right;\">\n",
              "      <th></th>\n",
              "      <th>0</th>\n",
              "      <th>1</th>\n",
              "      <th>2</th>\n",
              "    </tr>\n",
              "  </thead>\n",
              "  <tbody>\n",
              "    <tr>\n",
              "      <th>0</th>\n",
              "      <td>facebook_corpus_msr_1723796</td>\n",
              "      <td>Well said sonu..you have courage to stand agai...</td>\n",
              "      <td>OAG</td>\n",
              "    </tr>\n",
              "    <tr>\n",
              "      <th>1</th>\n",
              "      <td>facebook_corpus_msr_466073</td>\n",
              "      <td>Most of Private Banks ATM's Like HDFC, ICICI e...</td>\n",
              "      <td>NAG</td>\n",
              "    </tr>\n",
              "    <tr>\n",
              "      <th>2</th>\n",
              "      <td>facebook_corpus_msr_1493901</td>\n",
              "      <td>Now question is, Pakistan will adhere to this?</td>\n",
              "      <td>OAG</td>\n",
              "    </tr>\n",
              "    <tr>\n",
              "      <th>3</th>\n",
              "      <td>facebook_corpus_msr_405512</td>\n",
              "      <td>Pakistan is comprised of fake muslims who does...</td>\n",
              "      <td>OAG</td>\n",
              "    </tr>\n",
              "    <tr>\n",
              "      <th>4</th>\n",
              "      <td>facebook_corpus_msr_1521685</td>\n",
              "      <td>??we r against cow slaughter,so of course it w...</td>\n",
              "      <td>NAG</td>\n",
              "    </tr>\n",
              "  </tbody>\n",
              "</table>\n",
              "</div>"
            ],
            "text/plain": [
              "                             0  ...    2\n",
              "0  facebook_corpus_msr_1723796  ...  OAG\n",
              "1   facebook_corpus_msr_466073  ...  NAG\n",
              "2  facebook_corpus_msr_1493901  ...  OAG\n",
              "3   facebook_corpus_msr_405512  ...  OAG\n",
              "4  facebook_corpus_msr_1521685  ...  NAG\n",
              "\n",
              "[5 rows x 3 columns]"
            ]
          },
          "metadata": {
            "tags": []
          },
          "execution_count": 11
        }
      ]
    },
    {
      "cell_type": "code",
      "metadata": {
        "id": "8rrwFNBtt0Ed",
        "colab_type": "code",
        "colab": {
          "base_uri": "https://localhost:8080/",
          "height": 34
        },
        "outputId": "f6b66800-5107-4394-b4aa-93e643a4d9cf"
      },
      "source": [
        "df_train[1][1] "
      ],
      "execution_count": 12,
      "outputs": [
        {
          "output_type": "execute_result",
          "data": {
            "text/plain": [
              "\"Most of Private Banks ATM's Like HDFC, ICICI etc are out of cash. Only Public sector bank's ATM working\""
            ]
          },
          "metadata": {
            "tags": []
          },
          "execution_count": 12
        }
      ]
    },
    {
      "cell_type": "code",
      "metadata": {
        "id": "JEMLi1alt0Eh",
        "colab_type": "code",
        "colab": {
          "base_uri": "https://localhost:8080/",
          "height": 204
        },
        "outputId": "efe02fee-8c08-457e-d6a8-6a9deaa59987"
      },
      "source": [
        "df_dev = pd.read_csv(base_path / 'agr_en_dev.csv', header=None)\n",
        "df_dev.head()"
      ],
      "execution_count": 16,
      "outputs": [
        {
          "output_type": "execute_result",
          "data": {
            "text/html": [
              "<div>\n",
              "<style scoped>\n",
              "    .dataframe tbody tr th:only-of-type {\n",
              "        vertical-align: middle;\n",
              "    }\n",
              "\n",
              "    .dataframe tbody tr th {\n",
              "        vertical-align: top;\n",
              "    }\n",
              "\n",
              "    .dataframe thead th {\n",
              "        text-align: right;\n",
              "    }\n",
              "</style>\n",
              "<table border=\"1\" class=\"dataframe\">\n",
              "  <thead>\n",
              "    <tr style=\"text-align: right;\">\n",
              "      <th></th>\n",
              "      <th>0</th>\n",
              "      <th>1</th>\n",
              "      <th>2</th>\n",
              "    </tr>\n",
              "  </thead>\n",
              "  <tbody>\n",
              "    <tr>\n",
              "      <th>0</th>\n",
              "      <td>facebook_corpus_msr_451811</td>\n",
              "      <td>The quality of re made now makes me think it i...</td>\n",
              "      <td>CAG</td>\n",
              "    </tr>\n",
              "    <tr>\n",
              "      <th>1</th>\n",
              "      <td>facebook_corpus_msr_334368</td>\n",
              "      <td>@siva \\nHow is ur mother???\\nHow is ur wife???...</td>\n",
              "      <td>NAG</td>\n",
              "    </tr>\n",
              "    <tr>\n",
              "      <th>2</th>\n",
              "      <td>facebook_corpus_msr_331195</td>\n",
              "      <td>Also see ....hw ur RSS activist caught in Burk...</td>\n",
              "      <td>NAG</td>\n",
              "    </tr>\n",
              "    <tr>\n",
              "      <th>3</th>\n",
              "      <td>facebook_corpus_msr_403402</td>\n",
              "      <td>On the death of 2 jawans in LOC CROSS FIRING\\n...</td>\n",
              "      <td>NAG</td>\n",
              "    </tr>\n",
              "    <tr>\n",
              "      <th>4</th>\n",
              "      <td>facebook_corpus_msr_379239</td>\n",
              "      <td>Modi ho ya Manmohan singh saala yeh log kuch n...</td>\n",
              "      <td>OAG</td>\n",
              "    </tr>\n",
              "  </tbody>\n",
              "</table>\n",
              "</div>"
            ],
            "text/plain": [
              "                            0  ...    2\n",
              "0  facebook_corpus_msr_451811  ...  CAG\n",
              "1  facebook_corpus_msr_334368  ...  NAG\n",
              "2  facebook_corpus_msr_331195  ...  NAG\n",
              "3  facebook_corpus_msr_403402  ...  NAG\n",
              "4  facebook_corpus_msr_379239  ...  OAG\n",
              "\n",
              "[5 rows x 3 columns]"
            ]
          },
          "metadata": {
            "tags": []
          },
          "execution_count": 16
        }
      ]
    },
    {
      "cell_type": "code",
      "metadata": {
        "id": "Yddqj26ot0El",
        "colab_type": "code",
        "colab": {
          "base_uri": "https://localhost:8080/",
          "height": 34
        },
        "outputId": "ed270442-a565-47f5-f000-a3301e10fcd7"
      },
      "source": [
        "df_dev[1][1] "
      ],
      "execution_count": 17,
      "outputs": [
        {
          "output_type": "execute_result",
          "data": {
            "text/plain": [
              "'@siva \\nHow is ur mother???\\nHow is ur wife???\\nHow is ur sister???\\n\\nHope everyone is fine....😁😁😁'"
            ]
          },
          "metadata": {
            "tags": []
          },
          "execution_count": 17
        }
      ]
    },
    {
      "cell_type": "code",
      "metadata": {
        "id": "vNi55pBLt0Eq",
        "colab_type": "code",
        "colab": {}
      },
      "source": [
        "data_lm = TextLMDataBunch.from_df(base_path, df_train, df_dev, label_cols=2)"
      ],
      "execution_count": 0,
      "outputs": []
    },
    {
      "cell_type": "code",
      "metadata": {
        "id": "lvu4TxVjt0Eu",
        "colab_type": "code",
        "colab": {}
      },
      "source": [
        "data_lm.save()"
      ],
      "execution_count": 0,
      "outputs": []
    },
    {
      "cell_type": "code",
      "metadata": {
        "id": "MZjVUW3Ht0Ey",
        "colab_type": "code",
        "colab": {
          "base_uri": "https://localhost:8080/",
          "height": 289
        },
        "outputId": "85289568-3f8a-41f6-b025-87cd8bf16d22"
      },
      "source": [
        "data_lm.show_batch()"
      ],
      "execution_count": 21,
      "outputs": [
        {
          "output_type": "display_data",
          "data": {
            "text/html": [
              "<table border=\"1\" class=\"dataframe\">\n",
              "  <thead>\n",
              "    <tr style=\"text-align: right;\">\n",
              "      <th>idx</th>\n",
              "      <th>text</th>\n",
              "    </tr>\n",
              "  </thead>\n",
              "  <tbody>\n",
              "    <tr>\n",
              "      <td>0</td>\n",
              "      <td>muslims who does not know the meaning of unity and xxunk their thoughts on others xxrep 5 . all the rascals have gathered there ... xxbos ? ? we r against cow slaughter , so of course it will stop leather manufacturing if it happens . xxbos xxmaj wondering why xxmaj educated xxmaj ambassador is struggling to pay through xxmaj credit / xxmaj debit at a xxmaj decent xxmaj restaurant</td>\n",
              "    </tr>\n",
              "    <tr>\n",
              "      <td>1</td>\n",
              "      <td>ca n't xxunk between a military activity and an act of barbarism . \\n \\n  xxmaj remember the xxup nli , bodies of whose soldiers you refused to acknowledge during kargil conflict . \\n \\n  xxmaj so , keep your knowledge to yourself and live in your own fantasy land . xxbos xxmaj cows are definitely gon na vote for xxmaj modi ji in 2019 ;) xxbos congress</td>\n",
              "    </tr>\n",
              "    <tr>\n",
              "      <td>2</td>\n",
              "      <td>xxmaj this is despicable n only a pervert will do dis n d pakis r perverts . xxbos @ xxmaj neel xxmaj patel ... xxmaj glad to know dat ur xxunk ppl still exists ... xxmaj stay blessed xxbos xxmaj president xxmaj xi xxmaj xxunk has xxunk advancing xxmaj china 's space programme to strengthen national security . xxbos xxup bjp running xxup mcd for ten years . xxmaj if</td>\n",
              "    </tr>\n",
              "    <tr>\n",
              "      <td>3</td>\n",
              "      <td>issued only by a qualified jurist ( xxmaj mufti ) on a request by someone who is unable to understand religious guidelines whereas the leaflet that is being circulated and presented as xxmaj fatwa is just a hard copy of an appeal signed by 46 men who believe in religious practices . xxmaj the merit of appeal can be discussed on many grounds and in many dimensions but first and</td>\n",
              "    </tr>\n",
              "    <tr>\n",
              "      <td>4</td>\n",
              "      <td>is not paying you . \\n  xxmaj do n't think of excelling your self .as you said economic survey of xxmaj india .the key figure is xxmaj india &amp; not xxup fm . \\n \\n  xxmaj note xxmaj ban has ruined all sectors xxunk was result of keeping boss happy . \\n \\n  xxmaj note ban killed so many .but soldiers save you &amp; get killed themselves</td>\n",
              "    </tr>\n",
              "  </tbody>\n",
              "</table>"
            ],
            "text/plain": [
              "<IPython.core.display.HTML object>"
            ]
          },
          "metadata": {
            "tags": []
          }
        }
      ]
    },
    {
      "cell_type": "markdown",
      "metadata": {
        "id": "_KtaFpyqt0E2",
        "colab_type": "text"
      },
      "source": [
        "Now that we have a data buch created, we can download a pre-trained language model and train some more."
      ]
    },
    {
      "cell_type": "code",
      "metadata": {
        "id": "B5zbXDo6t0E4",
        "colab_type": "code",
        "colab": {}
      },
      "source": [
        "learn = language_model_learner(data_lm, AWD_LSTM, drop_mult=0.3)"
      ],
      "execution_count": 0,
      "outputs": []
    },
    {
      "cell_type": "markdown",
      "metadata": {
        "id": "0iZhXaClt0E-",
        "colab_type": "text"
      },
      "source": [
        "Let's find a learning rate and start fine tunning the model"
      ]
    },
    {
      "cell_type": "code",
      "metadata": {
        "id": "G8zt6IFIt0E_",
        "colab_type": "code",
        "colab": {
          "base_uri": "https://localhost:8080/",
          "height": 34
        },
        "outputId": "c7c05f72-b4b7-43ac-8251-b395b808020f"
      },
      "source": [
        "learn.lr_find()"
      ],
      "execution_count": 23,
      "outputs": [
        {
          "output_type": "display_data",
          "data": {
            "text/html": [
              ""
            ],
            "text/plain": [
              "<IPython.core.display.HTML object>"
            ]
          },
          "metadata": {
            "tags": []
          }
        },
        {
          "output_type": "stream",
          "text": [
            "LR Finder is complete, type {learner_name}.recorder.plot() to see the graph.\n"
          ],
          "name": "stdout"
        }
      ]
    },
    {
      "cell_type": "code",
      "metadata": {
        "id": "W3ER9_FBt0FD",
        "colab_type": "code",
        "colab": {},
        "outputId": "f33b636c-99a0-48de-8102-7b8501241e96"
      },
      "source": [
        "learn.recorder.plot(skip_end=15)"
      ],
      "execution_count": 0,
      "outputs": [
        {
          "output_type": "display_data",
          "data": {
            "image/png": "[encoded data removed]",
            "text/plain": [
              "<Figure size 432x288 with 1 Axes>"
            ]
          },
          "metadata": {
            "tags": [],
            "needs_background": "light"
          }
        }
      ]
    },
    {
      "cell_type": "code",
      "metadata": {
        "id": "nRcJmbxyt0FG",
        "colab_type": "code",
        "colab": {
          "base_uri": "https://localhost:8080/",
          "height": 80
        },
        "outputId": "a34a31ee-59f0-4b22-eb2e-31fafdcc152f"
      },
      "source": [
        "learn.fit_one_cycle(1, 1e-2, moms=(0.8,0.7))"
      ],
      "execution_count": 24,
      "outputs": [
        {
          "output_type": "display_data",
          "data": {
            "text/html": [
              "<table border=\"1\" class=\"dataframe\">\n",
              "  <thead>\n",
              "    <tr style=\"text-align: left;\">\n",
              "      <th>epoch</th>\n",
              "      <th>train_loss</th>\n",
              "      <th>valid_loss</th>\n",
              "      <th>accuracy</th>\n",
              "      <th>time</th>\n",
              "    </tr>\n",
              "  </thead>\n",
              "  <tbody>\n",
              "    <tr>\n",
              "      <td>0</td>\n",
              "      <td>4.858479</td>\n",
              "      <td>4.506994</td>\n",
              "      <td>0.245150</td>\n",
              "      <td>00:16</td>\n",
              "    </tr>\n",
              "  </tbody>\n",
              "</table>"
            ],
            "text/plain": [
              "<IPython.core.display.HTML object>"
            ]
          },
          "metadata": {
            "tags": []
          }
        }
      ]
    },
    {
      "cell_type": "code",
      "metadata": {
        "id": "qXahSWE9t0FL",
        "colab_type": "code",
        "colab": {}
      },
      "source": [
        "learn.save('fit_head')"
      ],
      "execution_count": 0,
      "outputs": []
    },
    {
      "cell_type": "code",
      "metadata": {
        "id": "l8qRJvItt0FP",
        "colab_type": "code",
        "colab": {}
      },
      "source": [
        "learn.unfreeze()"
      ],
      "execution_count": 0,
      "outputs": []
    },
    {
      "cell_type": "code",
      "metadata": {
        "id": "c3lLDXNot0FT",
        "colab_type": "code",
        "colab": {
          "base_uri": "https://localhost:8080/",
          "height": 204
        },
        "outputId": "d719e986-247f-47a6-d5e3-d9b27fe3baa2"
      },
      "source": [
        "learn.fit_one_cycle(5, 1e-2, moms=(0.8,0.7))"
      ],
      "execution_count": 27,
      "outputs": [
        {
          "output_type": "display_data",
          "data": {
            "text/html": [
              "<table border=\"1\" class=\"dataframe\">\n",
              "  <thead>\n",
              "    <tr style=\"text-align: left;\">\n",
              "      <th>epoch</th>\n",
              "      <th>train_loss</th>\n",
              "      <th>valid_loss</th>\n",
              "      <th>accuracy</th>\n",
              "      <th>time</th>\n",
              "    </tr>\n",
              "  </thead>\n",
              "  <tbody>\n",
              "    <tr>\n",
              "      <td>0</td>\n",
              "      <td>4.282601</td>\n",
              "      <td>4.318721</td>\n",
              "      <td>0.265899</td>\n",
              "      <td>00:21</td>\n",
              "    </tr>\n",
              "    <tr>\n",
              "      <td>1</td>\n",
              "      <td>4.113906</td>\n",
              "      <td>4.247952</td>\n",
              "      <td>0.275710</td>\n",
              "      <td>00:22</td>\n",
              "    </tr>\n",
              "    <tr>\n",
              "      <td>2</td>\n",
              "      <td>3.653488</td>\n",
              "      <td>4.198964</td>\n",
              "      <td>0.282884</td>\n",
              "      <td>00:24</td>\n",
              "    </tr>\n",
              "    <tr>\n",
              "      <td>3</td>\n",
              "      <td>2.922931</td>\n",
              "      <td>4.302004</td>\n",
              "      <td>0.286496</td>\n",
              "      <td>00:24</td>\n",
              "    </tr>\n",
              "    <tr>\n",
              "      <td>4</td>\n",
              "      <td>2.139960</td>\n",
              "      <td>4.490801</td>\n",
              "      <td>0.281331</td>\n",
              "      <td>00:23</td>\n",
              "    </tr>\n",
              "  </tbody>\n",
              "</table>"
            ],
            "text/plain": [
              "<IPython.core.display.HTML object>"
            ]
          },
          "metadata": {
            "tags": []
          }
        }
      ]
    },
    {
      "cell_type": "code",
      "metadata": {
        "id": "IP_RtR6Nt0FW",
        "colab_type": "code",
        "colab": {}
      },
      "source": [
        "learn.save('fine_tuned')"
      ],
      "execution_count": 0,
      "outputs": []
    },
    {
      "cell_type": "code",
      "metadata": {
        "id": "HVjxyPw_t0Fa",
        "colab_type": "code",
        "colab": {}
      },
      "source": [
        "TEXT = \"We should fire stathis because, \"\n",
        "N_WORDS = 40\n",
        "N_SENTENCES = 2"
      ],
      "execution_count": 0,
      "outputs": []
    },
    {
      "cell_type": "code",
      "metadata": {
        "id": "oxtAnVYat0Fh",
        "colab_type": "code",
        "colab": {
          "base_uri": "https://localhost:8080/",
          "height": 119
        },
        "outputId": "7cf2bd94-b6c3-45eb-b80d-dda33b848fef"
      },
      "source": [
        "for _ in range(N_SENTENCES):\n",
        "    print(learn.predict(TEXT, N_WORDS, temperature=0.75) + \"\\n\\n\")"
      ],
      "execution_count": 30,
      "outputs": [
        {
          "output_type": "stream",
          "text": [
            "We should fire stathis because,  we can not do it . xxbos Technical CNBC - TV18 is looking very badly in a market of Digital India . Specially in UP , where are the controversial sectors ? xxbos\n",
            "\n",
            "\n",
            "We should fire stathis because,  xxbos He is not a big boss , but he is a make lot of bhakts and anti nationals in the name of religion . What is the use of kerala and beef in kerala ? xxbos\n",
            "\n",
            "\n"
          ],
          "name": "stdout"
        }
      ]
    },
    {
      "cell_type": "code",
      "metadata": {
        "id": "djfo2IpQt0Fn",
        "colab_type": "code",
        "colab": {}
      },
      "source": [
        "learn.save_encoder('fine_tuned_enc')"
      ],
      "execution_count": 0,
      "outputs": []
    },
    {
      "cell_type": "code",
      "metadata": {
        "id": "sMBBp2ukt0Fx",
        "colab_type": "code",
        "colab": {}
      },
      "source": [
        "# prepare the classification data\n",
        "data_cl = TextDataBunch.from_df(base_path, df_train, df_dev, label_cols=2)"
      ],
      "execution_count": 0,
      "outputs": []
    },
    {
      "cell_type": "code",
      "metadata": {
        "id": "TRmBHmWT-Nhq",
        "colab_type": "code",
        "colab": {
          "base_uri": "https://localhost:8080/",
          "height": 1000
        },
        "outputId": "2be0187f-357c-41f2-add7-3fba3ed3b8fa"
      },
      "source": [
        "cl = text_classifier_learner(data_cl, AWD_LSTM, drop_mult=0.5)\n",
        "cl.load_encoder('fine_tuned_enc')"
      ],
      "execution_count": 55,
      "outputs": [
        {
          "output_type": "execute_result",
          "data": {
            "text/plain": [
              "RNNLearner(data=TextClasDataBunch;\n",
              "\n",
              "Train: LabelList (11999 items)\n",
              "x: TextList\n",
              "xxbos xxmaj well said sonu .. you have courage to stand against xxunk of xxmaj muslims,xxbos xxmaj most of xxmaj private xxmaj banks xxup atm 's xxmaj like xxup hdfc , xxup icici etc are out of cash . xxmaj only xxmaj public sector bank 's xxup atm working,xxbos xxmaj now question is , xxmaj pakistan will adhere to this ?,xxbos xxmaj pakistan is xxunk of fake muslims who does not know the meaning of unity and xxunk their thoughts on others xxrep 5 . all the rascals have gathered there ...,xxbos ? ? we r against cow slaughter , so of course it will stop leather manufacturing if it happens .\n",
              "y: CategoryList\n",
              "OAG,NAG,OAG,OAG,NAG\n",
              "Path: /content/gdrive/My Drive/fastai-v3/coling_toxic;\n",
              "\n",
              "Valid: LabelList (3001 items)\n",
              "x: TextList\n",
              "xxbos xxmaj the quality of re made now makes me think it is something to be bought from fish market,xxbos xxunk \n",
              "  xxmaj how is ur mother ? ? ? \n",
              "  xxmaj how is ur wife ? ? ? \n",
              "  xxmaj how is ur sister ? ? ? \n",
              " \n",
              "  xxmaj hope everyone is fine xxrep 4 . 😁 😁 😁,xxbos xxmaj also see xxrep 4 . hw ur xxup rss activist caught in xxmaj burkha xxrep 4 . throwing beef in d holy temples ... https : / / xxunk / xxunk / xxunk / news / india / burkha - xxunk - rss - activist - caught - throwing - beef - at - temple - pictures - go - viral - on - xxunk / xxunk /,xxbos xxmaj on the death of 2 jawans in xxup loc xxup cross xxup firing \n",
              " \n",
              "  xxup our xxup xxunk xxup home xxup minister xxup must xxup sing ; \n",
              " \n",
              "  xxup xxunk : xxup kadi xxup ninda xxrep 6 . \n",
              "  xxup xxunk : xxup bjp ; \n",
              "  xxup xxunk xxup raj xxup nath xxup singh & xxup amit xxup shah .,xxbos xxmaj modi ho ya xxmaj manmohan singh xxunk yeh log kuch ny xxunk hai sirf vote ka xxunk 56 ka seena xxunk hai\n",
              "y: CategoryList\n",
              "CAG,NAG,NAG,NAG,OAG\n",
              "Path: /content/gdrive/My Drive/fastai-v3/coling_toxic;\n",
              "\n",
              "Test: None, model=SequentialRNN(\n",
              "  (0): MultiBatchEncoder(\n",
              "    (module): AWD_LSTM(\n",
              "      (encoder): Embedding(11096, 400, padding_idx=1)\n",
              "      (encoder_dp): EmbeddingDropout(\n",
              "        (emb): Embedding(11096, 400, padding_idx=1)\n",
              "      )\n",
              "      (rnns): ModuleList(\n",
              "        (0): WeightDropout(\n",
              "          (module): LSTM(400, 1152, batch_first=True)\n",
              "        )\n",
              "        (1): WeightDropout(\n",
              "          (module): LSTM(1152, 1152, batch_first=True)\n",
              "        )\n",
              "        (2): WeightDropout(\n",
              "          (module): LSTM(1152, 400, batch_first=True)\n",
              "        )\n",
              "      )\n",
              "      (input_dp): RNNDropout()\n",
              "      (hidden_dps): ModuleList(\n",
              "        (0): RNNDropout()\n",
              "        (1): RNNDropout()\n",
              "        (2): RNNDropout()\n",
              "      )\n",
              "    )\n",
              "  )\n",
              "  (1): PoolingLinearClassifier(\n",
              "    (layers): Sequential(\n",
              "      (0): BatchNorm1d(1200, eps=1e-05, momentum=0.1, affine=True, track_running_stats=True)\n",
              "      (1): Dropout(p=0.2)\n",
              "      (2): Linear(in_features=1200, out_features=50, bias=True)\n",
              "      (3): ReLU(inplace)\n",
              "      (4): BatchNorm1d(50, eps=1e-05, momentum=0.1, affine=True, track_running_stats=True)\n",
              "      (5): Dropout(p=0.1)\n",
              "      (6): Linear(in_features=50, out_features=3, bias=True)\n",
              "    )\n",
              "  )\n",
              "), opt_func=functools.partial(<class 'torch.optim.adam.Adam'>, betas=(0.9, 0.99)), loss_func=FlattenedLoss of CrossEntropyLoss(), metrics=[<function accuracy at 0x7f39e4449048>], true_wd=True, bn_wd=True, wd=0.01, train_bn=True, path=PosixPath('/content/gdrive/My Drive/fastai-v3/coling_toxic'), model_dir='models', callback_fns=[functools.partial(<class 'fastai.basic_train.Recorder'>, add_time=True, silent=False)], callbacks=[RNNTrainer\n",
              "learn: RNNLearner(data=TextClasDataBunch;\n",
              "\n",
              "Train: LabelList (11999 items)\n",
              "x: TextList\n",
              "xxbos xxmaj well said sonu .. you have courage to stand against xxunk of xxmaj muslims,xxbos xxmaj most of xxmaj private xxmaj banks xxup atm 's xxmaj like xxup hdfc , xxup icici etc are out of cash . xxmaj only xxmaj public sector bank 's xxup atm working,xxbos xxmaj now question is , xxmaj pakistan will adhere to this ?,xxbos xxmaj pakistan is xxunk of fake muslims who does not know the meaning of unity and xxunk their thoughts on others xxrep 5 . all the rascals have gathered there ...,xxbos ? ? we r against cow slaughter , so of course it will stop leather manufacturing if it happens .\n",
              "y: CategoryList\n",
              "OAG,NAG,OAG,OAG,NAG\n",
              "Path: /content/gdrive/My Drive/fastai-v3/coling_toxic;\n",
              "\n",
              "Valid: LabelList (3001 items)\n",
              "x: TextList\n",
              "xxbos xxmaj the quality of re made now makes me think it is something to be bought from fish market,xxbos xxunk \n",
              "  xxmaj how is ur mother ? ? ? \n",
              "  xxmaj how is ur wife ? ? ? \n",
              "  xxmaj how is ur sister ? ? ? \n",
              " \n",
              "  xxmaj hope everyone is fine xxrep 4 . 😁 😁 😁,xxbos xxmaj also see xxrep 4 . hw ur xxup rss activist caught in xxmaj burkha xxrep 4 . throwing beef in d holy temples ... https : / / xxunk / xxunk / xxunk / news / india / burkha - xxunk - rss - activist - caught - throwing - beef - at - temple - pictures - go - viral - on - xxunk / xxunk /,xxbos xxmaj on the death of 2 jawans in xxup loc xxup cross xxup firing \n",
              " \n",
              "  xxup our xxup xxunk xxup home xxup minister xxup must xxup sing ; \n",
              " \n",
              "  xxup xxunk : xxup kadi xxup ninda xxrep 6 . \n",
              "  xxup xxunk : xxup bjp ; \n",
              "  xxup xxunk xxup raj xxup nath xxup singh & xxup amit xxup shah .,xxbos xxmaj modi ho ya xxmaj manmohan singh xxunk yeh log kuch ny xxunk hai sirf vote ka xxunk 56 ka seena xxunk hai\n",
              "y: CategoryList\n",
              "CAG,NAG,NAG,NAG,OAG\n",
              "Path: /content/gdrive/My Drive/fastai-v3/coling_toxic;\n",
              "\n",
              "Test: None, model=SequentialRNN(\n",
              "  (0): MultiBatchEncoder(\n",
              "    (module): AWD_LSTM(\n",
              "      (encoder): Embedding(11096, 400, padding_idx=1)\n",
              "      (encoder_dp): EmbeddingDropout(\n",
              "        (emb): Embedding(11096, 400, padding_idx=1)\n",
              "      )\n",
              "      (rnns): ModuleList(\n",
              "        (0): WeightDropout(\n",
              "          (module): LSTM(400, 1152, batch_first=True)\n",
              "        )\n",
              "        (1): WeightDropout(\n",
              "          (module): LSTM(1152, 1152, batch_first=True)\n",
              "        )\n",
              "        (2): WeightDropout(\n",
              "          (module): LSTM(1152, 400, batch_first=True)\n",
              "        )\n",
              "      )\n",
              "      (input_dp): RNNDropout()\n",
              "      (hidden_dps): ModuleList(\n",
              "        (0): RNNDropout()\n",
              "        (1): RNNDropout()\n",
              "        (2): RNNDropout()\n",
              "      )\n",
              "    )\n",
              "  )\n",
              "  (1): PoolingLinearClassifier(\n",
              "    (layers): Sequential(\n",
              "      (0): BatchNorm1d(1200, eps=1e-05, momentum=0.1, affine=True, track_running_stats=True)\n",
              "      (1): Dropout(p=0.2)\n",
              "      (2): Linear(in_features=1200, out_features=50, bias=True)\n",
              "      (3): ReLU(inplace)\n",
              "      (4): BatchNorm1d(50, eps=1e-05, momentum=0.1, affine=True, track_running_stats=True)\n",
              "      (5): Dropout(p=0.1)\n",
              "      (6): Linear(in_features=50, out_features=3, bias=True)\n",
              "    )\n",
              "  )\n",
              "), opt_func=functools.partial(<class 'torch.optim.adam.Adam'>, betas=(0.9, 0.99)), loss_func=FlattenedLoss of CrossEntropyLoss(), metrics=[<function accuracy at 0x7f39e4449048>], true_wd=True, bn_wd=True, wd=0.01, train_bn=True, path=PosixPath('/content/gdrive/My Drive/fastai-v3/coling_toxic'), model_dir='models', callback_fns=[functools.partial(<class 'fastai.basic_train.Recorder'>, add_time=True, silent=False)], callbacks=[...], layer_groups=[Sequential(\n",
              "  (0): Embedding(11096, 400, padding_idx=1)\n",
              "  (1): EmbeddingDropout(\n",
              "    (emb): Embedding(11096, 400, padding_idx=1)\n",
              "  )\n",
              "), Sequential(\n",
              "  (0): WeightDropout(\n",
              "    (module): LSTM(400, 1152, batch_first=True)\n",
              "  )\n",
              "  (1): RNNDropout()\n",
              "), Sequential(\n",
              "  (0): WeightDropout(\n",
              "    (module): LSTM(1152, 1152, batch_first=True)\n",
              "  )\n",
              "  (1): RNNDropout()\n",
              "), Sequential(\n",
              "  (0): WeightDropout(\n",
              "    (module): LSTM(1152, 400, batch_first=True)\n",
              "  )\n",
              "  (1): RNNDropout()\n",
              "), Sequential(\n",
              "  (0): PoolingLinearClassifier(\n",
              "    (layers): Sequential(\n",
              "      (0): BatchNorm1d(1200, eps=1e-05, momentum=0.1, affine=True, track_running_stats=True)\n",
              "      (1): Dropout(p=0.2)\n",
              "      (2): Linear(in_features=1200, out_features=50, bias=True)\n",
              "      (3): ReLU(inplace)\n",
              "      (4): BatchNorm1d(50, eps=1e-05, momentum=0.1, affine=True, track_running_stats=True)\n",
              "      (5): Dropout(p=0.1)\n",
              "      (6): Linear(in_features=50, out_features=3, bias=True)\n",
              "    )\n",
              "  )\n",
              ")], add_time=True, silent=False, cb_fns_registered=False)\n",
              "alpha: 2.0\n",
              "beta: 1.0], layer_groups=[Sequential(\n",
              "  (0): Embedding(11096, 400, padding_idx=1)\n",
              "  (1): EmbeddingDropout(\n",
              "    (emb): Embedding(11096, 400, padding_idx=1)\n",
              "  )\n",
              "), Sequential(\n",
              "  (0): WeightDropout(\n",
              "    (module): LSTM(400, 1152, batch_first=True)\n",
              "  )\n",
              "  (1): RNNDropout()\n",
              "), Sequential(\n",
              "  (0): WeightDropout(\n",
              "    (module): LSTM(1152, 1152, batch_first=True)\n",
              "  )\n",
              "  (1): RNNDropout()\n",
              "), Sequential(\n",
              "  (0): WeightDropout(\n",
              "    (module): LSTM(1152, 400, batch_first=True)\n",
              "  )\n",
              "  (1): RNNDropout()\n",
              "), Sequential(\n",
              "  (0): PoolingLinearClassifier(\n",
              "    (layers): Sequential(\n",
              "      (0): BatchNorm1d(1200, eps=1e-05, momentum=0.1, affine=True, track_running_stats=True)\n",
              "      (1): Dropout(p=0.2)\n",
              "      (2): Linear(in_features=1200, out_features=50, bias=True)\n",
              "      (3): ReLU(inplace)\n",
              "      (4): BatchNorm1d(50, eps=1e-05, momentum=0.1, affine=True, track_running_stats=True)\n",
              "      (5): Dropout(p=0.1)\n",
              "      (6): Linear(in_features=50, out_features=3, bias=True)\n",
              "    )\n",
              "  )\n",
              ")], add_time=True, silent=False, cb_fns_registered=False)"
            ]
          },
          "metadata": {
            "tags": []
          },
          "execution_count": 55
        }
      ]
    },
    {
      "cell_type": "code",
      "metadata": {
        "id": "wkeqDl6a-1Ez",
        "colab_type": "code",
        "colab": {
          "base_uri": "https://localhost:8080/",
          "height": 34
        },
        "outputId": "83f25665-d180-4f99-c967-b144fbdb809f"
      },
      "source": [
        "cl.lr_find()"
      ],
      "execution_count": 56,
      "outputs": [
        {
          "output_type": "display_data",
          "data": {
            "text/html": [
              ""
            ],
            "text/plain": [
              "<IPython.core.display.HTML object>"
            ]
          },
          "metadata": {
            "tags": []
          }
        },
        {
          "output_type": "stream",
          "text": [
            "LR Finder is complete, type {learner_name}.recorder.plot() to see the graph.\n"
          ],
          "name": "stdout"
        }
      ]
    },
    {
      "cell_type": "code",
      "metadata": {
        "id": "W_VKpjTn-7m5",
        "colab_type": "code",
        "colab": {
          "base_uri": "https://localhost:8080/",
          "height": 283
        },
        "outputId": "2c6e6d30-9948-49bf-d43f-c70e9437960c"
      },
      "source": [
        "cl.recorder.plot()"
      ],
      "execution_count": 57,
      "outputs": [
        {
          "output_type": "display_data",
          "data": {
            "image/png": "[encoded data removed]",
            "text/plain": [
              "<Figure size 432x288 with 1 Axes>"
            ]
          },
          "metadata": {
            "tags": []
          }
        }
      ]
    },
    {
      "cell_type": "code",
      "metadata": {
        "id": "p2fbPnCc_MRs",
        "colab_type": "code",
        "colab": {
          "base_uri": "https://localhost:8080/",
          "height": 80
        },
        "outputId": "55cc2d21-64e1-402a-d599-7d20caa2f7b7"
      },
      "source": [
        "cl.fit_one_cycle(1, 1e-2, moms=(0.8,0.7))"
      ],
      "execution_count": 58,
      "outputs": [
        {
          "output_type": "display_data",
          "data": {
            "text/html": [
              "<table border=\"1\" class=\"dataframe\">\n",
              "  <thead>\n",
              "    <tr style=\"text-align: left;\">\n",
              "      <th>epoch</th>\n",
              "      <th>train_loss</th>\n",
              "      <th>valid_loss</th>\n",
              "      <th>accuracy</th>\n",
              "      <th>time</th>\n",
              "    </tr>\n",
              "  </thead>\n",
              "  <tbody>\n",
              "    <tr>\n",
              "      <td>0</td>\n",
              "      <td>0.933656</td>\n",
              "      <td>0.912033</td>\n",
              "      <td>0.553149</td>\n",
              "      <td>00:15</td>\n",
              "    </tr>\n",
              "  </tbody>\n",
              "</table>"
            ],
            "text/plain": [
              "<IPython.core.display.HTML object>"
            ]
          },
          "metadata": {
            "tags": []
          }
        }
      ]
    },
    {
      "cell_type": "code",
      "metadata": {
        "id": "DHPP-plV_fCW",
        "colab_type": "code",
        "colab": {}
      },
      "source": [
        "cl.save('first')"
      ],
      "execution_count": 0,
      "outputs": []
    },
    {
      "cell_type": "code",
      "metadata": {
        "id": "QzRfoYSGAAJo",
        "colab_type": "code",
        "colab": {
          "base_uri": "https://localhost:8080/",
          "height": 111
        },
        "outputId": "969eab72-05be-4153-b748-38a61922f22f"
      },
      "source": [
        "cl.fit_one_cycle(2, slice(1e-2/(2.6**4),1e-2), moms=(0.8,0.7))"
      ],
      "execution_count": 60,
      "outputs": [
        {
          "output_type": "display_data",
          "data": {
            "text/html": [
              "<table border=\"1\" class=\"dataframe\">\n",
              "  <thead>\n",
              "    <tr style=\"text-align: left;\">\n",
              "      <th>epoch</th>\n",
              "      <th>train_loss</th>\n",
              "      <th>valid_loss</th>\n",
              "      <th>accuracy</th>\n",
              "      <th>time</th>\n",
              "    </tr>\n",
              "  </thead>\n",
              "  <tbody>\n",
              "    <tr>\n",
              "      <td>0</td>\n",
              "      <td>0.933869</td>\n",
              "      <td>0.913679</td>\n",
              "      <td>0.541486</td>\n",
              "      <td>00:15</td>\n",
              "    </tr>\n",
              "    <tr>\n",
              "      <td>1</td>\n",
              "      <td>0.897614</td>\n",
              "      <td>0.906053</td>\n",
              "      <td>0.555148</td>\n",
              "      <td>00:16</td>\n",
              "    </tr>\n",
              "  </tbody>\n",
              "</table>"
            ],
            "text/plain": [
              "<IPython.core.display.HTML object>"
            ]
          },
          "metadata": {
            "tags": []
          }
        }
      ]
    },
    {
      "cell_type": "code",
      "metadata": {
        "id": "GDWHD-CkMB81",
        "colab_type": "code",
        "colab": {}
      },
      "source": [
        "cl.save('second')"
      ],
      "execution_count": 0,
      "outputs": []
    },
    {
      "cell_type": "code",
      "metadata": {
        "id": "WHFRC3p3MIrL",
        "colab_type": "code",
        "colab": {
          "base_uri": "https://localhost:8080/",
          "height": 204
        },
        "outputId": "a247c38a-840a-4a54-82c6-0cafae6601b9"
      },
      "source": [
        "cl.fit_one_cycle(5, slice(1e-2/(2.6**4),1e-2), moms=(0.8,0.7))"
      ],
      "execution_count": 62,
      "outputs": [
        {
          "output_type": "display_data",
          "data": {
            "text/html": [
              "<table border=\"1\" class=\"dataframe\">\n",
              "  <thead>\n",
              "    <tr style=\"text-align: left;\">\n",
              "      <th>epoch</th>\n",
              "      <th>train_loss</th>\n",
              "      <th>valid_loss</th>\n",
              "      <th>accuracy</th>\n",
              "      <th>time</th>\n",
              "    </tr>\n",
              "  </thead>\n",
              "  <tbody>\n",
              "    <tr>\n",
              "      <td>0</td>\n",
              "      <td>0.908823</td>\n",
              "      <td>0.911874</td>\n",
              "      <td>0.558147</td>\n",
              "      <td>00:15</td>\n",
              "    </tr>\n",
              "    <tr>\n",
              "      <td>1</td>\n",
              "      <td>0.914773</td>\n",
              "      <td>0.911754</td>\n",
              "      <td>0.544485</td>\n",
              "      <td>00:15</td>\n",
              "    </tr>\n",
              "    <tr>\n",
              "      <td>2</td>\n",
              "      <td>0.893228</td>\n",
              "      <td>0.903819</td>\n",
              "      <td>0.556814</td>\n",
              "      <td>00:15</td>\n",
              "    </tr>\n",
              "    <tr>\n",
              "      <td>3</td>\n",
              "      <td>0.880916</td>\n",
              "      <td>0.901245</td>\n",
              "      <td>0.548484</td>\n",
              "      <td>00:14</td>\n",
              "    </tr>\n",
              "    <tr>\n",
              "      <td>4</td>\n",
              "      <td>0.867261</td>\n",
              "      <td>0.898458</td>\n",
              "      <td>0.557148</td>\n",
              "      <td>00:16</td>\n",
              "    </tr>\n",
              "  </tbody>\n",
              "</table>"
            ],
            "text/plain": [
              "<IPython.core.display.HTML object>"
            ]
          },
          "metadata": {
            "tags": []
          }
        }
      ]
    }
  ]
}